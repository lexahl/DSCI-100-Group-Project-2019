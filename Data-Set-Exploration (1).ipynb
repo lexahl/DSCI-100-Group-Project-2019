{
 "cells": [
  {
   "cell_type": "code",
   "execution_count": 3,
   "metadata": {},
   "outputs": [
    {
     "name": "stderr",
     "output_type": "stream",
     "text": [
      "also installing the dependencies ‘progress’, ‘reshape’\n",
      "\n",
      "Updating HTML index of packages in '.Library'\n",
      "Making 'packages.html' ... done\n",
      "\n",
      "Attaching package: ‘GGally’\n",
      "\n",
      "The following object is masked from ‘package:dplyr’:\n",
      "\n",
      "    nasa\n",
      "\n"
     ]
    }
   ],
   "source": [
    "suppressWarnings(library(tidyverse))\n",
    "suppressWarnings(library(testthat))\n",
    "suppressWarnings(library(digest))\n",
    "suppressWarnings(library(repr))\n",
    "suppressWarnings(library(caret))\n",
    "suppressWarnings(install.packages(\"GGally\"))\n",
    "suppressWarnings(library(GGally))"
   ]
  },
  {
   "cell_type": "code",
   "execution_count": 26,
   "metadata": {},
   "outputs": [
    {
     "name": "stderr",
     "output_type": "stream",
     "text": [
      "Parsed with column specification:\n",
      "cols(\n",
      "  `fixed acidity` = col_double(),\n",
      "  `volatile acidity` = col_double(),\n",
      "  `citric acid` = col_double(),\n",
      "  `residual sugar` = col_double(),\n",
      "  chlorides = col_double(),\n",
      "  `free sulfur dioxide` = col_double(),\n",
      "  `total sulfur dioxide` = col_integer(),\n",
      "  density = col_double(),\n",
      "  pH = col_double(),\n",
      "  sulphates = col_double(),\n",
      "  alcohol = col_double(),\n",
      "  quality = col_integer()\n",
      ")\n",
      "Warning message:\n",
      "“2 parsing failures.\n",
      "row # A tibble: 2 x 5 col     row col                  expected               actual file                 expected   <int> <chr>                <chr>                  <chr>  <chr>                actual 1  1296 total sulfur dioxide no trailing characters .5     'https://archive.ic… file 2  1297 total sulfur dioxide no trailing characters .5     'https://archive.ic…\n",
      "”Parsed with column specification:\n",
      "cols(\n",
      "  `fixed acidity` = col_double(),\n",
      "  `volatile acidity` = col_double(),\n",
      "  `citric acid` = col_double(),\n",
      "  `residual sugar` = col_double(),\n",
      "  chlorides = col_double(),\n",
      "  `free sulfur dioxide` = col_double(),\n",
      "  `total sulfur dioxide` = col_double(),\n",
      "  density = col_double(),\n",
      "  pH = col_double(),\n",
      "  sulphates = col_double(),\n",
      "  alcohol = col_double(),\n",
      "  quality = col_integer()\n",
      ")\n"
     ]
    },
    {
     "data": {
      "text/html": [
       "<table>\n",
       "<thead><tr><th scope=col>type</th><th scope=col>fixed_acidity</th><th scope=col>volatile_acidity</th><th scope=col>citric_acid</th><th scope=col>residual_sugar</th><th scope=col>chlorides</th><th scope=col>free_sulfur_dioxide</th><th scope=col>total_sulfur_dioxide</th><th scope=col>density</th><th scope=col>pH</th><th scope=col>sulphates</th><th scope=col>alcohol</th><th scope=col>quality</th></tr></thead>\n",
       "<tbody>\n",
       "\t<tr><td>white </td><td>7.0   </td><td>0.27  </td><td>0.36  </td><td>20.7  </td><td>0.045 </td><td>45    </td><td>170   </td><td>1.0010</td><td>3.00  </td><td>0.45  </td><td> 8.8  </td><td>6     </td></tr>\n",
       "\t<tr><td>white </td><td>6.3   </td><td>0.30  </td><td>0.34  </td><td> 1.6  </td><td>0.049 </td><td>14    </td><td>132   </td><td>0.9940</td><td>3.30  </td><td>0.49  </td><td> 9.5  </td><td>6     </td></tr>\n",
       "\t<tr><td>white </td><td>8.1   </td><td>0.28  </td><td>0.40  </td><td> 6.9  </td><td>0.050 </td><td>30    </td><td> 97   </td><td>0.9951</td><td>3.26  </td><td>0.44  </td><td>10.1  </td><td>6     </td></tr>\n",
       "\t<tr><td>white </td><td>7.2   </td><td>0.23  </td><td>0.32  </td><td> 8.5  </td><td>0.058 </td><td>47    </td><td>186   </td><td>0.9956</td><td>3.19  </td><td>0.40  </td><td> 9.9  </td><td>6     </td></tr>\n",
       "\t<tr><td>white </td><td>7.2   </td><td>0.23  </td><td>0.32  </td><td> 8.5  </td><td>0.058 </td><td>47    </td><td>186   </td><td>0.9956</td><td>3.19  </td><td>0.40  </td><td> 9.9  </td><td>6     </td></tr>\n",
       "\t<tr><td>white </td><td>8.1   </td><td>0.28  </td><td>0.40  </td><td> 6.9  </td><td>0.050 </td><td>30    </td><td> 97   </td><td>0.9951</td><td>3.26  </td><td>0.44  </td><td>10.1  </td><td>6     </td></tr>\n",
       "</tbody>\n",
       "</table>\n"
      ],
      "text/latex": [
       "\\begin{tabular}{r|lllllllllllll}\n",
       " type & fixed\\_acidity & volatile\\_acidity & citric\\_acid & residual\\_sugar & chlorides & free\\_sulfur\\_dioxide & total\\_sulfur\\_dioxide & density & pH & sulphates & alcohol & quality\\\\\n",
       "\\hline\n",
       "\t white  & 7.0    & 0.27   & 0.36   & 20.7   & 0.045  & 45     & 170    & 1.0010 & 3.00   & 0.45   &  8.8   & 6     \\\\\n",
       "\t white  & 6.3    & 0.30   & 0.34   &  1.6   & 0.049  & 14     & 132    & 0.9940 & 3.30   & 0.49   &  9.5   & 6     \\\\\n",
       "\t white  & 8.1    & 0.28   & 0.40   &  6.9   & 0.050  & 30     &  97    & 0.9951 & 3.26   & 0.44   & 10.1   & 6     \\\\\n",
       "\t white  & 7.2    & 0.23   & 0.32   &  8.5   & 0.058  & 47     & 186    & 0.9956 & 3.19   & 0.40   &  9.9   & 6     \\\\\n",
       "\t white  & 7.2    & 0.23   & 0.32   &  8.5   & 0.058  & 47     & 186    & 0.9956 & 3.19   & 0.40   &  9.9   & 6     \\\\\n",
       "\t white  & 8.1    & 0.28   & 0.40   &  6.9   & 0.050  & 30     &  97    & 0.9951 & 3.26   & 0.44   & 10.1   & 6     \\\\\n",
       "\\end{tabular}\n"
      ],
      "text/markdown": [
       "\n",
       "type | fixed_acidity | volatile_acidity | citric_acid | residual_sugar | chlorides | free_sulfur_dioxide | total_sulfur_dioxide | density | pH | sulphates | alcohol | quality | \n",
       "|---|---|---|---|---|---|\n",
       "| white  | 7.0    | 0.27   | 0.36   | 20.7   | 0.045  | 45     | 170    | 1.0010 | 3.00   | 0.45   |  8.8   | 6      | \n",
       "| white  | 6.3    | 0.30   | 0.34   |  1.6   | 0.049  | 14     | 132    | 0.9940 | 3.30   | 0.49   |  9.5   | 6      | \n",
       "| white  | 8.1    | 0.28   | 0.40   |  6.9   | 0.050  | 30     |  97    | 0.9951 | 3.26   | 0.44   | 10.1   | 6      | \n",
       "| white  | 7.2    | 0.23   | 0.32   |  8.5   | 0.058  | 47     | 186    | 0.9956 | 3.19   | 0.40   |  9.9   | 6      | \n",
       "| white  | 7.2    | 0.23   | 0.32   |  8.5   | 0.058  | 47     | 186    | 0.9956 | 3.19   | 0.40   |  9.9   | 6      | \n",
       "| white  | 8.1    | 0.28   | 0.40   |  6.9   | 0.050  | 30     |  97    | 0.9951 | 3.26   | 0.44   | 10.1   | 6      | \n",
       "\n",
       "\n"
      ],
      "text/plain": [
       "  type  fixed_acidity volatile_acidity citric_acid residual_sugar chlorides\n",
       "1 white 7.0           0.27             0.36        20.7           0.045    \n",
       "2 white 6.3           0.30             0.34         1.6           0.049    \n",
       "3 white 8.1           0.28             0.40         6.9           0.050    \n",
       "4 white 7.2           0.23             0.32         8.5           0.058    \n",
       "5 white 7.2           0.23             0.32         8.5           0.058    \n",
       "6 white 8.1           0.28             0.40         6.9           0.050    \n",
       "  free_sulfur_dioxide total_sulfur_dioxide density pH   sulphates alcohol\n",
       "1 45                  170                  1.0010  3.00 0.45       8.8   \n",
       "2 14                  132                  0.9940  3.30 0.49       9.5   \n",
       "3 30                   97                  0.9951  3.26 0.44      10.1   \n",
       "4 47                  186                  0.9956  3.19 0.40       9.9   \n",
       "5 47                  186                  0.9956  3.19 0.40       9.9   \n",
       "6 30                   97                  0.9951  3.26 0.44      10.1   \n",
       "  quality\n",
       "1 6      \n",
       "2 6      \n",
       "3 6      \n",
       "4 6      \n",
       "5 6      \n",
       "6 6      "
      ]
     },
     "metadata": {},
     "output_type": "display_data"
    },
    {
     "data": {
      "text/html": [
       "<table>\n",
       "<thead><tr><th scope=col>type</th><th scope=col>fixed_acidity</th><th scope=col>volatile_acidity</th><th scope=col>citric_acid</th><th scope=col>residual_sugar</th><th scope=col>chlorides</th><th scope=col>free_sulfur_dioxide</th><th scope=col>total_sulfur_dioxide</th><th scope=col>density</th><th scope=col>pH</th><th scope=col>sulphates</th><th scope=col>alcohol</th><th scope=col>quality</th></tr></thead>\n",
       "<tbody>\n",
       "\t<tr><td>red    </td><td>6.8    </td><td>0.620  </td><td>0.08   </td><td>1.9    </td><td>0.068  </td><td>28     </td><td>38     </td><td>0.99651</td><td>3.42   </td><td>0.82   </td><td> 9.5   </td><td>6      </td></tr>\n",
       "\t<tr><td>red    </td><td>6.2    </td><td>0.600  </td><td>0.08   </td><td>2.0    </td><td>0.090  </td><td>32     </td><td>44     </td><td>0.99490</td><td>3.45   </td><td>0.58   </td><td>10.5   </td><td>5      </td></tr>\n",
       "\t<tr><td>red    </td><td>5.9    </td><td>0.550  </td><td>0.10   </td><td>2.2    </td><td>0.062  </td><td>39     </td><td>51     </td><td>0.99512</td><td>3.52   </td><td>0.76   </td><td>11.2   </td><td>6      </td></tr>\n",
       "\t<tr><td>red    </td><td>6.3    </td><td>0.510  </td><td>0.13   </td><td>2.3    </td><td>0.076  </td><td>29     </td><td>40     </td><td>0.99574</td><td>3.42   </td><td>0.75   </td><td>11.0   </td><td>6      </td></tr>\n",
       "\t<tr><td>red    </td><td>5.9    </td><td>0.645  </td><td>0.12   </td><td>2.0    </td><td>0.075  </td><td>32     </td><td>44     </td><td>0.99547</td><td>3.57   </td><td>0.71   </td><td>10.2   </td><td>5      </td></tr>\n",
       "\t<tr><td>red    </td><td>6.0    </td><td>0.310  </td><td>0.47   </td><td>3.6    </td><td>0.067  </td><td>18     </td><td>42     </td><td>0.99549</td><td>3.39   </td><td>0.66   </td><td>11.0   </td><td>6      </td></tr>\n",
       "</tbody>\n",
       "</table>\n"
      ],
      "text/latex": [
       "\\begin{tabular}{r|lllllllllllll}\n",
       " type & fixed\\_acidity & volatile\\_acidity & citric\\_acid & residual\\_sugar & chlorides & free\\_sulfur\\_dioxide & total\\_sulfur\\_dioxide & density & pH & sulphates & alcohol & quality\\\\\n",
       "\\hline\n",
       "\t red     & 6.8     & 0.620   & 0.08    & 1.9     & 0.068   & 28      & 38      & 0.99651 & 3.42    & 0.82    &  9.5    & 6      \\\\\n",
       "\t red     & 6.2     & 0.600   & 0.08    & 2.0     & 0.090   & 32      & 44      & 0.99490 & 3.45    & 0.58    & 10.5    & 5      \\\\\n",
       "\t red     & 5.9     & 0.550   & 0.10    & 2.2     & 0.062   & 39      & 51      & 0.99512 & 3.52    & 0.76    & 11.2    & 6      \\\\\n",
       "\t red     & 6.3     & 0.510   & 0.13    & 2.3     & 0.076   & 29      & 40      & 0.99574 & 3.42    & 0.75    & 11.0    & 6      \\\\\n",
       "\t red     & 5.9     & 0.645   & 0.12    & 2.0     & 0.075   & 32      & 44      & 0.99547 & 3.57    & 0.71    & 10.2    & 5      \\\\\n",
       "\t red     & 6.0     & 0.310   & 0.47    & 3.6     & 0.067   & 18      & 42      & 0.99549 & 3.39    & 0.66    & 11.0    & 6      \\\\\n",
       "\\end{tabular}\n"
      ],
      "text/markdown": [
       "\n",
       "type | fixed_acidity | volatile_acidity | citric_acid | residual_sugar | chlorides | free_sulfur_dioxide | total_sulfur_dioxide | density | pH | sulphates | alcohol | quality | \n",
       "|---|---|---|---|---|---|\n",
       "| red     | 6.8     | 0.620   | 0.08    | 1.9     | 0.068   | 28      | 38      | 0.99651 | 3.42    | 0.82    |  9.5    | 6       | \n",
       "| red     | 6.2     | 0.600   | 0.08    | 2.0     | 0.090   | 32      | 44      | 0.99490 | 3.45    | 0.58    | 10.5    | 5       | \n",
       "| red     | 5.9     | 0.550   | 0.10    | 2.2     | 0.062   | 39      | 51      | 0.99512 | 3.52    | 0.76    | 11.2    | 6       | \n",
       "| red     | 6.3     | 0.510   | 0.13    | 2.3     | 0.076   | 29      | 40      | 0.99574 | 3.42    | 0.75    | 11.0    | 6       | \n",
       "| red     | 5.9     | 0.645   | 0.12    | 2.0     | 0.075   | 32      | 44      | 0.99547 | 3.57    | 0.71    | 10.2    | 5       | \n",
       "| red     | 6.0     | 0.310   | 0.47    | 3.6     | 0.067   | 18      | 42      | 0.99549 | 3.39    | 0.66    | 11.0    | 6       | \n",
       "\n",
       "\n"
      ],
      "text/plain": [
       "  type fixed_acidity volatile_acidity citric_acid residual_sugar chlorides\n",
       "1 red  6.8           0.620            0.08        1.9            0.068    \n",
       "2 red  6.2           0.600            0.08        2.0            0.090    \n",
       "3 red  5.9           0.550            0.10        2.2            0.062    \n",
       "4 red  6.3           0.510            0.13        2.3            0.076    \n",
       "5 red  5.9           0.645            0.12        2.0            0.075    \n",
       "6 red  6.0           0.310            0.47        3.6            0.067    \n",
       "  free_sulfur_dioxide total_sulfur_dioxide density pH   sulphates alcohol\n",
       "1 28                  38                   0.99651 3.42 0.82       9.5   \n",
       "2 32                  44                   0.99490 3.45 0.58      10.5   \n",
       "3 39                  51                   0.99512 3.52 0.76      11.2   \n",
       "4 29                  40                   0.99574 3.42 0.75      11.0   \n",
       "5 32                  44                   0.99547 3.57 0.71      10.2   \n",
       "6 18                  42                   0.99549 3.39 0.66      11.0   \n",
       "  quality\n",
       "1 6      \n",
       "2 5      \n",
       "3 6      \n",
       "4 6      \n",
       "5 5      \n",
       "6 6      "
      ]
     },
     "metadata": {},
     "output_type": "display_data"
    }
   ],
   "source": [
    "# reading in our data\n",
    "red_wine <- read_delim(\"https://archive.ics.uci.edu/ml/machine-learning-databases/wine-quality/winequality-red.csv\",\n",
    "                    delim=\";\")\n",
    "white_wine <- read_delim(\"https://archive.ics.uci.edu/ml/machine-learning-databases/wine-quality/winequality-white.csv\", \n",
    "                    delim=\";\")\n",
    "\n",
    "# eliminating whitespace in column names\n",
    "names(red_wine) <- gsub(\" \",\"_\", names(red_wine))\n",
    "names(white_wine) <- gsub(\" \",\"_\", names(white_wine))\n",
    "\n",
    "\n",
    "# combining our two wine data sets\n",
    "wine <- bind_rows(list(white = white_wine , red = red_wine), .id = \"type\")\n",
    "\n",
    "head(wine)\n",
    "tail(wine)"
   ]
  },
  {
   "cell_type": "code",
   "execution_count": 101,
   "metadata": {},
   "outputs": [],
   "source": [
    "quality_distribution <- ggplot(wine, aes(x = quality)) +\n",
    "    xlab(\"Count\") +\n",
    "    ylab(\"Quality\") +\n",
    "    geom_bar(stat=\"count\", aes(fill = type)) +\n",
    "    geom_text(stat='count', aes(label=..count..), vjust=-(1/2))\n",
    "    \n",
    "\n",
    "# src:https://stackoverflow.com/questions/26553526/how-to-add-frequency-count-labels-to-the-bars-in-a-bar-graph-using-ggplot2/26556180"
   ]
  },
  {
   "cell_type": "code",
   "execution_count": 103,
   "metadata": {},
   "outputs": [
    {
     "data": {},
     "metadata": {},
     "output_type": "display_data"
    },
    {
     "data": {
      "image/png": "[encoded data removed]",
      "text/plain": [
       "plot without title"
      ]
     },
     "metadata": {},
     "output_type": "display_data"
    }
   ],
   "source": [
    "options(repr.plot.width=5,repr.plot.height=4)\n",
    "quality_distribution"
   ]
  },
  {
   "cell_type": "code",
   "execution_count": 116,
   "metadata": {},
   "outputs": [
    {
     "name": "stdout",
     "output_type": "stream",
     "text": [
      "Observations: 6,497\n",
      "Variables: 13\n",
      "$ type                 <chr> \"white\", \"white\", \"white\", \"white\", \"white\", \"...\n",
      "$ fixed_acidity        <dbl> 7.0, 6.3, 8.1, 7.2, 7.2, 8.1, 6.2, 7.0, 6.3, 8...\n",
      "$ volatile_acidity     <dbl> 0.27, 0.30, 0.28, 0.23, 0.23, 0.28, 0.32, 0.27...\n",
      "$ citric_acid          <dbl> 0.36, 0.34, 0.40, 0.32, 0.32, 0.40, 0.16, 0.36...\n",
      "$ residual_sugar       <dbl> 20.70, 1.60, 6.90, 8.50, 8.50, 6.90, 7.00, 20....\n",
      "$ chlorides            <dbl> 0.045, 0.049, 0.050, 0.058, 0.058, 0.050, 0.04...\n",
      "$ free_sulfur_dioxide  <dbl> 45, 14, 30, 47, 47, 30, 30, 45, 14, 28, 11, 17...\n",
      "$ total_sulfur_dioxide <dbl> 170, 132, 97, 186, 186, 97, 136, 170, 132, 129...\n",
      "$ density              <dbl> 1.0010, 0.9940, 0.9951, 0.9956, 0.9956, 0.9951...\n",
      "$ pH                   <dbl> 3.00, 3.30, 3.26, 3.19, 3.19, 3.26, 3.18, 3.00...\n",
      "$ sulphates            <dbl> 0.45, 0.49, 0.44, 0.40, 0.40, 0.44, 0.47, 0.45...\n",
      "$ alcohol              <dbl> 8.8, 9.5, 10.1, 9.9, 9.9, 10.1, 9.6, 8.8, 9.5,...\n",
      "$ quality              <int> 6, 6, 6, 6, 6, 6, 6, 6, 6, 6, 5, 5, 5, 7, 5, 7...\n"
     ]
    },
    {
     "name": "stderr",
     "output_type": "stream",
     "text": [
      "Warning message in ggcorr(., label = TRUE, label_round = 2, columns = 2:13):\n",
      "“data in column(s) 'type' are not numeric and were ignored”Warning message:\n",
      "“Ignoring unknown parameters: columns”"
     ]
    }
   ],
   "source": [
    "wine_explore <- select(wine, -type)\n",
    "glimpse(wine)\n",
    "\n",
    "# Should type be included in this ggpairs plot? Right now it's selected out using columns\n",
    "# Or should we be treating red and white the same and ignore type\n",
    "ggpair_plot <- wine %>%\n",
    "            ggpairs(mapping = aes(color = type, alpha=1/10), columns = 2:13)\n",
    "\n",
    "correlations <- wine %>%\n",
    "                ggcorr(label = TRUE, label_round = 2, columns = 2:13)\n",
    "\n",
    "# TODO: map correlations color onto ggpair plot\n",
    "\n",
    "# src: https://stackoverflow.com/questions/45873483/ggpairs-plot-with-heatmap-of-correlation-values"
   ]
  },
  {
   "cell_type": "code",
   "execution_count": null,
   "metadata": {},
   "outputs": [
    {
     "name": "stderr",
     "output_type": "stream",
     "text": [
      "Warning message in (function (data, mapping, alignPercent = 0.6, method = \"pearson\", :\n",
      "“Removed 2 rows containing missing values”Warning message in (function (data, mapping, alignPercent = 0.6, method = \"pearson\", :\n",
      "“Removed 2 rows containing missing values”Warning message in (function (data, mapping, alignPercent = 0.6, method = \"pearson\", :\n",
      "“Removed 2 rows containing missing values”Warning message in (function (data, mapping, alignPercent = 0.6, method = \"pearson\", :\n",
      "“Removed 2 rows containing missing values”Warning message in (function (data, mapping, alignPercent = 0.6, method = \"pearson\", :\n",
      "“Removed 2 rows containing missing values”Warning message in (function (data, mapping, alignPercent = 0.6, method = \"pearson\", :\n",
      "“Removed 2 rows containing missing values”Warning message:\n",
      "“Removed 2 rows containing missing values (geom_point).”Warning message:\n",
      "“Removed 2 rows containing missing values (geom_point).”Warning message:\n",
      "“Removed 2 rows containing missing values (geom_point).”Warning message:\n",
      "“Removed 2 rows containing missing values (geom_point).”Warning message:\n",
      "“Removed 2 rows containing missing values (geom_point).”Warning message:\n",
      "“Removed 2 rows containing missing values (geom_point).”Warning message:\n",
      "“Removed 2 rows containing non-finite values (stat_density).”Warning message in (function (data, mapping, alignPercent = 0.6, method = \"pearson\", :\n",
      "“Removed 2 rows containing missing values”Warning message in (function (data, mapping, alignPercent = 0.6, method = \"pearson\", :\n",
      "“Removed 2 rows containing missing values”Warning message in (function (data, mapping, alignPercent = 0.6, method = \"pearson\", :\n",
      "“Removed 2 rows containing missing values”Warning message in (function (data, mapping, alignPercent = 0.6, method = \"pearson\", :\n",
      "“Removed 2 rows containing missing values”Warning message in (function (data, mapping, alignPercent = 0.6, method = \"pearson\", :\n",
      "“Removed 2 rows containing missing values”Warning message:\n",
      "“Removed 2 rows containing missing values (geom_point).”Warning message:\n",
      "“Removed 2 rows containing missing values (geom_point).”Warning message:\n",
      "“Removed 2 rows containing missing values (geom_point).”Warning message:\n",
      "“Removed 2 rows containing missing values (geom_point).”Warning message:\n",
      "“Removed 2 rows containing missing values (geom_point).”"
     ]
    }
   ],
   "source": [
    "options(repr.plot.width=10,repr.plot.height=10)\n",
    "\n",
    "ggpair_plot\n",
    "\n",
    "correlations"
   ]
  },
  {
   "cell_type": "code",
   "execution_count": null,
   "metadata": {},
   "outputs": [],
   "source": [
    "# TODO: Will probably plot all the variables vs quality here and then compare the RMSE and see\n",
    "# if our exploratory predicted most important variables have a low RMSE, comfirming/disproving hypothesis..\n",
    "\n",
    "options(repr.plot.width=5.5,repr.plot.height=4.5)\n",
    "\n",
    "alcohol_plot <- ggplot(wine, aes(x = quality, y = alcohol)) + \n",
    "    geom_point(alpha=0.1,position = \"jitter\") +\n",
    "    xlab(\"Quality\") + \n",
    "    ylab(\"Alcohol (%)\") +\n",
    "    ggtitle(\"Alcohol vs Quality\")\n",
    "alcohol_plot"
   ]
  },
  {
   "cell_type": "code",
   "execution_count": null,
   "metadata": {},
   "outputs": [],
   "source": []
  }
 ],
 "metadata": {
  "kernelspec": {
   "display_name": "R",
   "language": "R",
   "name": "ir"
  },
  "language_info": {
   "codemirror_mode": "r",
   "file_extension": ".r",
   "mimetype": "text/x-r-source",
   "name": "R",
   "pygments_lexer": "r",
   "version": "3.4.1"
  }
 },
 "nbformat": 4,
 "nbformat_minor": 2
}
